{
  "cells": [
    {
      "cell_type": "markdown",
      "metadata": {
        "id": "view-in-github",
        "colab_type": "text"
      },
      "source": [
        "<a href=\"https://colab.research.google.com/github/maroun009/world-temperature/blob/main/WT_First_Exploration.ipynb\" target=\"_parent\"><img src=\"https://colab.research.google.com/assets/colab-badge.svg\" alt=\"Open In Colab\"/></a>"
      ]
    },
    {
      "cell_type": "code",
      "execution_count": 9,
      "metadata": {
        "colab": {
          "base_uri": "https://localhost:8080/"
        },
        "id": "diVwYtnwMOWv",
        "outputId": "af745cf2-f2f3-4255-f364-b1d05daba19b"
      },
      "outputs": [
        {
          "output_type": "stream",
          "name": "stdout",
          "text": [
            "['.config', 'sample_data']\n"
          ]
        }
      ],
      "source": [
        "import os\n",
        "print(os.listdir())\n",
        "#Check which datasets we have uploaded in our colab session"
      ]
    },
    {
      "cell_type": "code",
      "execution_count": 8,
      "metadata": {
        "id": "gZ_Q_w7ho2HF"
      },
      "outputs": [],
      "source": [
        "%matplotlib inline\n",
        "import matplotlib.pyplot as plt\n",
        "import pandas as pd\n",
        "import seaborn as sns\n",
        "import streamlit as st\n",
        "sns.set()\n"
      ]
    },
    {
      "cell_type": "code",
      "source": [
        "!pip install streamlit"
      ],
      "metadata": {
        "id": "NMG_Gl4iXSes",
        "outputId": "b469ddb2-bf35-4abc-9855-8f112f6f9d47",
        "colab": {
          "base_uri": "https://localhost:8080/"
        }
      },
      "execution_count": 7,
      "outputs": [
        {
          "output_type": "stream",
          "name": "stdout",
          "text": [
            "Requirement already satisfied: streamlit in /usr/local/lib/python3.10/dist-packages (1.28.0)\n",
            "Requirement already satisfied: altair<6,>=4.0 in /usr/local/lib/python3.10/dist-packages (from streamlit) (4.2.2)\n",
            "Requirement already satisfied: blinker<2,>=1.0.0 in /usr/lib/python3/dist-packages (from streamlit) (1.4)\n",
            "Requirement already satisfied: cachetools<6,>=4.0 in /usr/local/lib/python3.10/dist-packages (from streamlit) (5.3.2)\n",
            "Requirement already satisfied: click<9,>=7.0 in /usr/local/lib/python3.10/dist-packages (from streamlit) (8.1.7)\n",
            "Requirement already satisfied: importlib-metadata<7,>=1.4 in /usr/local/lib/python3.10/dist-packages (from streamlit) (6.8.0)\n",
            "Requirement already satisfied: numpy<2,>=1.19.3 in /usr/local/lib/python3.10/dist-packages (from streamlit) (1.23.5)\n",
            "Requirement already satisfied: packaging<24,>=16.8 in /usr/local/lib/python3.10/dist-packages (from streamlit) (23.2)\n",
            "Requirement already satisfied: pandas<3,>=1.3.0 in /usr/local/lib/python3.10/dist-packages (from streamlit) (1.5.3)\n",
            "Requirement already satisfied: pillow<11,>=7.1.0 in /usr/local/lib/python3.10/dist-packages (from streamlit) (9.4.0)\n",
            "Requirement already satisfied: protobuf<5,>=3.20 in /usr/local/lib/python3.10/dist-packages (from streamlit) (3.20.3)\n",
            "Requirement already satisfied: pyarrow>=6.0 in /usr/local/lib/python3.10/dist-packages (from streamlit) (9.0.0)\n",
            "Requirement already satisfied: python-dateutil<3,>=2.7.3 in /usr/local/lib/python3.10/dist-packages (from streamlit) (2.8.2)\n",
            "Requirement already satisfied: requests<3,>=2.27 in /usr/local/lib/python3.10/dist-packages (from streamlit) (2.31.0)\n",
            "Requirement already satisfied: rich<14,>=10.14.0 in /usr/local/lib/python3.10/dist-packages (from streamlit) (13.6.0)\n",
            "Requirement already satisfied: tenacity<9,>=8.1.0 in /usr/local/lib/python3.10/dist-packages (from streamlit) (8.2.3)\n",
            "Requirement already satisfied: toml<2,>=0.10.1 in /usr/local/lib/python3.10/dist-packages (from streamlit) (0.10.2)\n",
            "Requirement already satisfied: typing-extensions<5,>=4.3.0 in /usr/local/lib/python3.10/dist-packages (from streamlit) (4.5.0)\n",
            "Requirement already satisfied: tzlocal<6,>=1.1 in /usr/local/lib/python3.10/dist-packages (from streamlit) (5.2)\n",
            "Requirement already satisfied: validators<1,>=0.2 in /usr/local/lib/python3.10/dist-packages (from streamlit) (0.22.0)\n",
            "Requirement already satisfied: gitpython!=3.1.19,<4,>=3.0.7 in /usr/local/lib/python3.10/dist-packages (from streamlit) (3.1.40)\n",
            "Requirement already satisfied: pydeck<1,>=0.8.0b4 in /usr/local/lib/python3.10/dist-packages (from streamlit) (0.8.1b0)\n",
            "Requirement already satisfied: tornado<7,>=6.0.3 in /usr/local/lib/python3.10/dist-packages (from streamlit) (6.3.2)\n",
            "Requirement already satisfied: watchdog>=2.1.5 in /usr/local/lib/python3.10/dist-packages (from streamlit) (3.0.0)\n",
            "Requirement already satisfied: entrypoints in /usr/local/lib/python3.10/dist-packages (from altair<6,>=4.0->streamlit) (0.4)\n",
            "Requirement already satisfied: jinja2 in /usr/local/lib/python3.10/dist-packages (from altair<6,>=4.0->streamlit) (3.1.2)\n",
            "Requirement already satisfied: jsonschema>=3.0 in /usr/local/lib/python3.10/dist-packages (from altair<6,>=4.0->streamlit) (4.19.1)\n",
            "Requirement already satisfied: toolz in /usr/local/lib/python3.10/dist-packages (from altair<6,>=4.0->streamlit) (0.12.0)\n",
            "Requirement already satisfied: gitdb<5,>=4.0.1 in /usr/local/lib/python3.10/dist-packages (from gitpython!=3.1.19,<4,>=3.0.7->streamlit) (4.0.11)\n",
            "Requirement already satisfied: zipp>=0.5 in /usr/local/lib/python3.10/dist-packages (from importlib-metadata<7,>=1.4->streamlit) (3.17.0)\n",
            "Requirement already satisfied: pytz>=2020.1 in /usr/local/lib/python3.10/dist-packages (from pandas<3,>=1.3.0->streamlit) (2023.3.post1)\n",
            "Requirement already satisfied: six>=1.5 in /usr/local/lib/python3.10/dist-packages (from python-dateutil<3,>=2.7.3->streamlit) (1.16.0)\n",
            "Requirement already satisfied: charset-normalizer<4,>=2 in /usr/local/lib/python3.10/dist-packages (from requests<3,>=2.27->streamlit) (3.3.1)\n",
            "Requirement already satisfied: idna<4,>=2.5 in /usr/local/lib/python3.10/dist-packages (from requests<3,>=2.27->streamlit) (3.4)\n",
            "Requirement already satisfied: urllib3<3,>=1.21.1 in /usr/local/lib/python3.10/dist-packages (from requests<3,>=2.27->streamlit) (2.0.7)\n",
            "Requirement already satisfied: certifi>=2017.4.17 in /usr/local/lib/python3.10/dist-packages (from requests<3,>=2.27->streamlit) (2023.7.22)\n",
            "Requirement already satisfied: markdown-it-py>=2.2.0 in /usr/local/lib/python3.10/dist-packages (from rich<14,>=10.14.0->streamlit) (3.0.0)\n",
            "Requirement already satisfied: pygments<3.0.0,>=2.13.0 in /usr/local/lib/python3.10/dist-packages (from rich<14,>=10.14.0->streamlit) (2.16.1)\n",
            "Requirement already satisfied: smmap<6,>=3.0.1 in /usr/local/lib/python3.10/dist-packages (from gitdb<5,>=4.0.1->gitpython!=3.1.19,<4,>=3.0.7->streamlit) (5.0.1)\n",
            "Requirement already satisfied: MarkupSafe>=2.0 in /usr/local/lib/python3.10/dist-packages (from jinja2->altair<6,>=4.0->streamlit) (2.1.3)\n",
            "Requirement already satisfied: attrs>=22.2.0 in /usr/local/lib/python3.10/dist-packages (from jsonschema>=3.0->altair<6,>=4.0->streamlit) (23.1.0)\n",
            "Requirement already satisfied: jsonschema-specifications>=2023.03.6 in /usr/local/lib/python3.10/dist-packages (from jsonschema>=3.0->altair<6,>=4.0->streamlit) (2023.7.1)\n",
            "Requirement already satisfied: referencing>=0.28.4 in /usr/local/lib/python3.10/dist-packages (from jsonschema>=3.0->altair<6,>=4.0->streamlit) (0.30.2)\n",
            "Requirement already satisfied: rpds-py>=0.7.1 in /usr/local/lib/python3.10/dist-packages (from jsonschema>=3.0->altair<6,>=4.0->streamlit) (0.10.6)\n",
            "Requirement already satisfied: mdurl~=0.1 in /usr/local/lib/python3.10/dist-packages (from markdown-it-py>=2.2.0->rich<14,>=10.14.0->streamlit) (0.1.2)\n"
          ]
        }
      ]
    },
    {
      "cell_type": "code",
      "source": [],
      "metadata": {
        "id": "06OfZClNXTrG"
      },
      "execution_count": null,
      "outputs": []
    },
    {
      "cell_type": "code",
      "execution_count": null,
      "metadata": {
        "id": "KSxK0QxSqLZq"
      },
      "outputs": [],
      "source": [
        "df_Zon = pd.read_csv(\"ZonAnn.Ts+dSST.csv\")\n",
        "df_Zon.head()\n"
      ]
    },
    {
      "cell_type": "code",
      "execution_count": null,
      "metadata": {
        "id": "A4k7bupgrogm"
      },
      "outputs": [],
      "source": [
        "plt.figure(figsize = (10,7))\n",
        "sns.lineplot(x = \"Year\", y = \"Glob\", data = df_Zon, label = \"Global\")\n",
        "sns.lineplot(x = \"Year\", y = \"NHem\", data = df_Zon, label = \"Northern Hemisphere\")\n",
        "sns.lineplot(x = \"Year\", y = \"SHem\", data = df_Zon, label = \"Southern Hemisphere\")\n",
        "plt.xlabel(\"Year\")\n",
        "plt.ylabel(\"Temperature (ºC change)\")\n",
        "plt.title(\"Temperature anomalies\")\n",
        "plt.legend();"
      ]
    },
    {
      "cell_type": "code",
      "execution_count": null,
      "metadata": {
        "id": "0mDjncBPvsPM"
      },
      "outputs": [],
      "source": [
        "plt.figure(figsize = (10,7))\n",
        "sns.lineplot(x = \"Year\", y = \"Glob\", data = df_Zon[df_Zon[\"Year\"]>=1990], label = \"Global\")\n",
        "sns.lineplot(x = \"Year\", y = \"NHem\", data = df_Zon[df_Zon[\"Year\"]>=1990], label = \"Northern Hemisphere\")\n",
        "sns.lineplot(x = \"Year\", y = \"SHem\", data = df_Zon[df_Zon[\"Year\"]>=1990], label = \"Southern Hemisphere\")\n",
        "plt.xlabel(\"Year\")\n",
        "plt.ylabel(\"Temperature (ºC change)\")\n",
        "plt.title(\"Temperature anomalies\")\n",
        "plt.legend();"
      ]
    },
    {
      "cell_type": "code",
      "execution_count": null,
      "metadata": {
        "id": "L3x6kYD_z-U4"
      },
      "outputs": [],
      "source": [
        "df_co2 = pd.read_csv(\"owid-co2-data.csv\")\n",
        "df_co2.head()"
      ]
    },
    {
      "cell_type": "code",
      "execution_count": null,
      "metadata": {
        "id": "uxyvEUFZ0OcC"
      },
      "outputs": [],
      "source": [
        "df_co2[\"country\"].unique()"
      ]
    },
    {
      "cell_type": "code",
      "execution_count": null,
      "metadata": {
        "id": "xjyRNePM09US"
      },
      "outputs": [],
      "source": [
        "df_co2_n = df_co2[df_co2[\"country\"].isin([\"North America\", \"Asia\", \"Europe\", \"World\"])]\n",
        "\n",
        "df_co2_n.head()"
      ]
    },
    {
      "cell_type": "code",
      "execution_count": null,
      "metadata": {
        "id": "94hs5zbT2vac"
      },
      "outputs": [],
      "source": [
        "plt.figure(figsize = (10,7))\n",
        "sns.relplot(x = \"year\", y = \"share_of_temperature_change_from_ghg\", kind = \"line\", hue = \"country\", data = df_co2_n)\n",
        "plt.xlabel(\"Year\")\n",
        "plt.ylabel(\"Contribution (%)\")\n",
        "plt.title(\"Share of contribution to global warming\");"
      ]
    },
    {
      "cell_type": "code",
      "execution_count": null,
      "metadata": {
        "id": "2J2dDqpOBDxF"
      },
      "outputs": [],
      "source": [
        "plt.figure(figsize = (10,7))\n",
        "sns.relplot(x = \"year\", y = \"temperature_change_from_co2\", kind = \"line\", hue = \"country\", data = df_co2_n)\n",
        "plt.xlabel(\"Year\")\n",
        "plt.ylabel(\"Temperature change (ºC)\")\n",
        "plt.title(\"Contribution to temperature increase due to CO2\");"
      ]
    },
    {
      "cell_type": "code",
      "execution_count": null,
      "metadata": {
        "id": "SvqLgKbP4-uA"
      },
      "outputs": [],
      "source": [
        "plt.figure(figsize = (12,8))\n",
        "sns.relplot(x = \"year\", y = \"co2\", kind = \"line\", hue = \"country\", data = df_co2_n)\n",
        "plt.xlabel(\"Year\")\n",
        "plt.ylabel(\"CO2 (million tonnes)\")\n",
        "plt.title(\"Annual total emissions of CO2\");"
      ]
    },
    {
      "cell_type": "code",
      "execution_count": null,
      "metadata": {
        "id": "0GMdSS7b9bNv"
      },
      "outputs": [],
      "source": [
        "plt.figure(figsize = (12,8))\n",
        "sns.relplot(x = \"year\", y = \"co2_per_capita\", kind = \"line\", hue = \"country\", data = df_co2_n)\n",
        "plt.xlabel(\"Year\")\n",
        "plt.ylabel(\"CO2 (million tonnes per person)\")\n",
        "plt.title(\"Annual emissions of CO2 per capita\");"
      ]
    },
    {
      "cell_type": "code",
      "execution_count": null,
      "metadata": {
        "id": "HDbAypK-1uci"
      },
      "outputs": [],
      "source": [
        "df_co2_n[\"gdp\"] = df_co2_n['co2']/df_co2_n[\"co2_per_gdp\"]\n",
        "\n",
        "# Here I obtained the GDP values from the other 2 variables as \"gdp\" column is empty for whole continents (but \"co2\" and \"co2_per_gdp\" not)"
      ]
    },
    {
      "cell_type": "code",
      "execution_count": null,
      "metadata": {
        "id": "RUgU4WT5_7YN"
      },
      "outputs": [],
      "source": [
        "g = sns.FacetGrid(df_co2_n, col = \"country\", hue = \"country\", height = 4)\n",
        "g.map(sns.scatterplot, \"gdp\", \"temperature_change_from_co2\")\n",
        "g.set_axis_labels(\"GDP\", \"Temperature change (ºC)\")\n",
        "g.set_titles(col_template=\"Temperature change vs GDP\")\n",
        "\n",
        "g.add_legend();"
      ]
    },
    {
      "cell_type": "code",
      "execution_count": null,
      "metadata": {
        "id": "C8ZpK4kV4Jwl"
      },
      "outputs": [],
      "source": [
        "# Since GDP and population seem to positively correlate with Co2 emissions and temperature increase, let's focus on some big and/or rich countries.\n",
        "df_co2_country = df_co2[df_co2[\"country\"].isin([\"United States\", \"Canada\", \"Germany\", \"France\", \"Russia\", \"China\", \"India\", \"Brazil\", \"Australia\"])]\n",
        "\n",
        "# We will also have a separate dataset with \"World\" co2 data.\n",
        "\n",
        "df_co2_world = df_co2.loc[df_co2[\"country\"] == \"World\"]\n",
        "\n",
        "# From the NASA dataset, we will work with Year, Glob, NHem and SHem variables:\n",
        "\n",
        "df_temp = df_Zon[[\"Year\", \"Glob\", \"SHem\", \"NHem\"]]\n",
        "\n",
        "# With the first dataset (df_co2_country) we can compare trends between these countries and identify some correlations.\n",
        "# For the modeling part, we can focus on global data (merging df_co2_world and df_temp datasets) to predict temperature changes in the next years.\n",
        "\n",
        "\n"
      ]
    },
    {
      "cell_type": "code",
      "execution_count": null,
      "metadata": {
        "id": "xdnsTvyoYaQL"
      },
      "outputs": [],
      "source": [
        "# As seen in the previous graphs, we have more complete co2 data since about 1850.\n",
        "# And in our NASA dataset we have data since 1880. Also, the nasa dataset is very complete (no missing values)\n",
        "# so we decided to focus on the data since 1880.\n",
        "# Choosing \"Glob\" as our target value, it is also important to not have any NaNs there.\n",
        "# However, our NASA dataset is based on the 1951-1980 period. Since we want to compare these temperature changes with\n",
        "# the target of \"1.5ºC maximum increase from the pre-industrial average\", we have to change the baseline to the pre-industrial period.\n",
        "# Let's say that the pre-industrial period in our case is 1880-1900, we calculate the average anomalies in that period and\n",
        "# subtract it from the other values, to obtain new temperature anomalies now in reference to the \"pre-industrial period\".\n",
        "\n",
        "filtered = df_temp[(df_temp['Year'] >= 1880) & (df_temp['Year'] <= 1900)]\n",
        "\n",
        "# Calculate the average temperature anomalies for the specified period\n",
        "average = filtered['Glob'].mean()\n",
        "\n",
        "print(f'Average temperature anomalies between 1880 and 1900: {average:.2f}')\n",
        "\n"
      ]
    },
    {
      "cell_type": "code",
      "execution_count": null,
      "metadata": {
        "id": "w8D0uVoWeBGL"
      },
      "outputs": [],
      "source": [
        "df_temp[\"Glob_adj\"] = df_temp[\"Glob\"] - (-0.22)\n",
        "\n",
        "df_temp.head()"
      ]
    },
    {
      "cell_type": "code",
      "execution_count": null,
      "metadata": {
        "id": "324HxloaezMz"
      },
      "outputs": [],
      "source": [
        "plt.figure(figsize = (10,7))\n",
        "sns.lineplot(x = \"Year\", y = \"Glob_adj\", data = df_temp)\n",
        "plt.xlabel(\"Year\")\n",
        "plt.ylabel(\"Temperature (ºC change)\")\n",
        "plt.title(\"Temperature anomalies (pre-industrial levels)\");"
      ]
    },
    {
      "cell_type": "code",
      "execution_count": null,
      "metadata": {
        "id": "ZPxx3c_ufyW_"
      },
      "outputs": [],
      "source": [
        "# We can do the same with Northern and Sothern Hemispheres out of curiosity...\n",
        "average_n = filtered['NHem'].mean()\n",
        "print(f'NHem-Average temperature anomalies between 1880 and 1900: {average_n:.2f}')\n",
        "average_s = filtered['SHem'].mean()\n",
        "print(f'SHem-Average temperature anomalies between 1880 and 1900: {average_s:.2f}')"
      ]
    },
    {
      "cell_type": "code",
      "execution_count": null,
      "metadata": {
        "id": "DVAXtIR8gR4_"
      },
      "outputs": [],
      "source": [
        "df_temp[\"NHem_adj\"] = df_temp[\"NHem\"] - (-0.30)\n",
        "df_temp[\"SHem_adj\"] = df_temp[\"SHem\"] - (-0.14)\n",
        "\n",
        "df_temp.head()"
      ]
    },
    {
      "cell_type": "code",
      "execution_count": null,
      "metadata": {
        "id": "n8Fl49j4gmqd"
      },
      "outputs": [],
      "source": [
        "plt.figure(figsize = (10,7))\n",
        "sns.lineplot(x = \"Year\", y = \"Glob_adj\", data = df_temp, label = \"Global\")\n",
        "sns.lineplot(x = \"Year\", y = \"NHem_adj\", data = df_temp, label = \"Northern Hemisphere\")\n",
        "sns.lineplot(x = \"Year\", y = \"SHem_adj\", data = df_temp, label = \"Southern Hemisphere\")\n",
        "plt.xlabel(\"Year\")\n",
        "plt.ylabel(\"Temperature (ºC change)\")\n",
        "plt.title(\"Temperature anomalies (pre-industrial levels)\")\n",
        "plt.legend();\n",
        "\n",
        "# We can see that the Northern Hemisphere has surpased the 1.5ºC \"limit\" a couple of times. It's also interesting to see a seasonality in the data..."
      ]
    },
    {
      "cell_type": "code",
      "execution_count": null,
      "metadata": {
        "id": "17KeUyMthicB"
      },
      "outputs": [],
      "source": [
        "# Some graphs for the country dataset:\n",
        "\n",
        "plt.figure(figsize = (10,7))\n",
        "sns.relplot(x = \"year\", y = \"temperature_change_from_co2\", kind = \"line\", hue = \"country\", data = df_co2_country)\n",
        "plt.xlabel(\"Year\")\n",
        "plt.ylabel(\"Temperature change (ºC)\")\n",
        "plt.title(\"Contribution to temperature increase due to CO2\");\n",
        "\n",
        "# United States is a big contributor to temperature increase due to CO2 emissions!\n",
        "\n"
      ]
    },
    {
      "cell_type": "code",
      "execution_count": null,
      "metadata": {
        "id": "QD_7PknJkMrV"
      },
      "outputs": [],
      "source": [
        "plt.figure(figsize = (12,8))\n",
        "sns.relplot(x = \"year\", y = \"co2\", kind = \"line\", hue = \"country\", data = df_co2_country)\n",
        "plt.xlabel(\"Year\")\n",
        "plt.ylabel(\"CO2 (million tonnes)\")\n",
        "plt.title(\"Annual total emissions of CO2\");\n",
        "\n",
        "plt.figure(figsize = (12,8))\n",
        "sns.relplot(x = \"year\", y = \"co2_per_capita\", kind = \"line\", hue = \"country\", data = df_co2_country)\n",
        "plt.xlabel(\"Year\")\n",
        "plt.ylabel(\"CO2 (million tonnes per person)\")\n",
        "plt.title(\"Annual emissions of CO2 per capita\");\n",
        "\n",
        "# In the last few decades, China has been leading in total Co2 emissions, although on a per capita basis,\n",
        "# the United States was the leader throughout the last century."
      ]
    },
    {
      "cell_type": "code",
      "execution_count": null,
      "metadata": {
        "id": "SXMNUqOgmide"
      },
      "outputs": [],
      "source": [
        "plt.figure(figsize = (10,7))\n",
        "sns.relplot(x = \"gdp\", y = \"temperature_change_from_co2\", hue = \"country\", data = df_co2_country)\n",
        "plt.xlabel(\"GDP\")\n",
        "plt.ylabel(\"Temperature change (ºC)\")\n",
        "plt.title(\"Temperature change due to CO2\");"
      ]
    },
    {
      "cell_type": "code",
      "execution_count": null,
      "metadata": {
        "id": "9XLpuSywnvOg"
      },
      "outputs": [],
      "source": [
        "# Picking only variables of interest (let me know if you want to add another):\n",
        "\n",
        "co2_country = df_co2_country[[\"country\", \"year\", \"population\", \"gdp\", \"co2\", \"co2_per_capita\", \"co2_per_gdp\", \"temperature_change_from_co2\"]]\n",
        "\n",
        "co2_country.info()\n"
      ]
    },
    {
      "cell_type": "code",
      "execution_count": null,
      "metadata": {
        "id": "KuF84HmrqJ0k"
      },
      "outputs": [],
      "source": [
        "# Handling missing values (I chose median because it's more robust to extreme values):\n",
        "\n",
        "cols = ['population', 'gdp', 'co2', 'co2_per_capita', 'co2_per_gdp', 'temperature_change_from_co2']\n",
        "\n",
        "for i in cols:\n",
        "    co2_country[i] = co2_country[i].fillna(co2_country[i].median())"
      ]
    },
    {
      "cell_type": "code",
      "execution_count": null,
      "metadata": {
        "id": "a__IiE9uv-OO"
      },
      "outputs": [],
      "source": [
        "# Some statistical tests:\n",
        "# H0: variables are not correlated\n",
        "# H1: variables are correlated\n",
        "# alpha = 0.05\n",
        "\n",
        "from scipy.stats import pearsonr\n",
        "\n",
        "pearsonr(x = co2_country.population, y = co2_country.temperature_change_from_co2)\n",
        "\n",
        "# Population and temperature change due to CO2 are statistically correlated.\n",
        "\n",
        "pearsonr(x = co2_country.gdp, y = co2_country.temperature_change_from_co2)\n",
        "\n",
        "# GDP and temperature change due to CO2 are statistically correlated.\n"
      ]
    },
    {
      "cell_type": "code",
      "execution_count": null,
      "metadata": {
        "id": "llYkrhb0ybS2"
      },
      "outputs": [],
      "source": [
        "# Merging NASA dataset with world co2 data (\"inner\" join to only have data from 1880 and avoid getting more NaNs)\n",
        "df_temp = df_temp.rename({\"Year\" : \"year\"}, axis=1)\n",
        "\n",
        "merged_global = df_temp.merge(right = df_co2_world, on = \"year\", how = \"inner\")\n",
        "\n",
        "merged_global.head()"
      ]
    },
    {
      "cell_type": "code",
      "execution_count": null,
      "metadata": {
        "id": "_nOM_qF30dji"
      },
      "outputs": [],
      "source": [
        "# Picking only variables of interest (let me know if you want to add another):\n",
        "\n",
        "merged_global = merged_global[[\"year\", \"Glob_adj\", \"NHem_adj\", \"SHem_adj\", \"country\", \"population\", \"gdp\", \"co2\", \"co2_per_capita\", \"co2_per_gdp\", \"temperature_change_from_co2\"]]\n",
        "\n",
        "merged_global.info()\n",
        "\n",
        "# I would suggest to remove gdp and co2_per_gdp in this case (too many NaNs)\n"
      ]
    },
    {
      "cell_type": "code",
      "execution_count": null,
      "metadata": {
        "id": "MWonw5YW1onr"
      },
      "outputs": [],
      "source": [
        "# Some statistical tests:\n",
        "# H0: variables are not correlated\n",
        "# H1: variables are correlated\n",
        "# alpha = 0.05\n",
        "\n",
        "from scipy.stats import pearsonr\n",
        "\n",
        "pearsonr(x = merged_global.population, y = merged_global.Glob_adj)\n",
        "\n",
        "# Population and Global temperature change are statistically correlated.\n",
        "\n",
        "pearsonr(x = merged_global.co2, y = merged_global.Glob_adj)\n",
        "\n",
        "# CO2 emissions and Global temperature change are statistically correlated."
      ]
    },
    {
      "cell_type": "code",
      "execution_count": null,
      "metadata": {
        "id": "cokNtdaJft0C"
      },
      "outputs": [],
      "source": [
        "import pandas as pd\n",
        "import seaborn as sns\n",
        "import matplotlib.pyplot as plt\n",
        "\n",
        "# Load the CO2 emissions data (owid-co2-data.csv)\n",
        "co2_data = pd.read_csv('owid-co2-data.csv')\n",
        "\n",
        "# Load the temperature data (GLB.Ts+dSST.csv)\n",
        "temperature_data = pd.read_csv('GLB.Ts+dSST.csv', skiprows=1)  # Skip the first row\n",
        "\n",
        "# Data Distribution Analysis for CO2 Emissions\n",
        "co2_description = co2_data.describe()\n",
        "co2_mean = co2_data['co2'].mean()\n",
        "co2_median = co2_data['co2'].median()\n",
        "co2_mode = co2_data['co2'].mode().values[0]\n",
        "co2_std = co2_data['co2'].std()\n",
        "co2_range = co2_data['co2'].max() - co2_data['co2'].min()\n",
        "co2_iqr = co2_data['co2'].quantile(0.75) - co2_data['co2'].quantile(0.25)\n",
        "\n",
        "# Data Distribution Analysis for Temperature Anomalies\n",
        "temperature_description = temperature_data.describe()\n",
        "temperature_mean = temperature_data['J-D'].mean()\n",
        "temperature_median = temperature_data['J-D'].median()\n",
        "temperature_mode = temperature_data['J-D'].mode().values[0]\n",
        "temperature_std = temperature_data['J-D'].std()\n",
        "temperature_range = temperature_data['J-D'].max() - temperature_data['J-D'].min()\n",
        "temperature_iqr = temperature_data['J-D'].quantile(0.75) - temperature_data['J-D'].quantile(0.25)\n",
        "\n",
        "# Data Visualization\n",
        "plt.figure(figsize=(14, 6))\n",
        "plt.subplot(1, 2, 1)\n",
        "sns.histplot(data=co2_data, x='co2', kde=True)\n",
        "plt.title(\"CO2 Emissions Distribution\")\n",
        "\n",
        "plt.subplot(1, 2, 2)\n",
        "sns.histplot(data=temperature_data, x='J-D', kde=True)\n",
        "plt.title(\"Temperature Anomalies Distribution\")\n",
        "\n",
        "plt.show()\n",
        "\n",
        "# Print Data Distribution Summary\n",
        "print(\"Summary Statistics for CO2 Emissions:\")\n",
        "print(co2_description)\n",
        "print(f\"Mean: {co2_mean:.2f}, Median: {co2_median:.2f}, Mode: {co2_mode:.2f}\")\n",
        "print(f\"Standard Deviation: {co2_std:.2f}, Range: {co2_range:.2f}, IQR: {co2_iqr:.2f}\")\n",
        "\n",
        "print(\"\\nSummary Statistics for Temperature Anomalies:\")\n",
        "print(temperature_description)\n",
        "print(f\"Mean: {temperature_mean:.2f}, Median: {temperature_median:.2f}, Mode: {temperature_mode:.2f}\")\n",
        "print(f\"Standard Deviation: {temperature_std:.2f}, Range: {temperature_range:.2f}, IQR: {temperature_iqr:.2f}\")\n"
      ]
    },
    {
      "cell_type": "code",
      "execution_count": null,
      "metadata": {
        "id": "dAw4PWJftXbe"
      },
      "outputs": [],
      "source": [
        "import pandas as pd\n",
        "import seaborn as sns\n",
        "import matplotlib.pyplot as plt\n",
        "\n",
        "# Load the CO2 emissions data (owid-co2-data.csv)\n",
        "co2_data = pd.read_csv('owid-co2-data.csv')\n",
        "\n",
        "# Load the temperature data (ZonAnn.Ts+dSST.csv)\n",
        "temperature_data = pd.read_csv('ZonAnn.Ts+dSST.csv')\n",
        "\n",
        "# Data Distribution Analysis for CO2 Emissions\n",
        "co2_description = co2_data.describe()\n",
        "co2_mean = co2_data['co2'].mean()\n",
        "co2_median = co2_data['co2'].median()\n",
        "co2_mode = co2_data['co2'].mode().values[0]\n",
        "co2_std = co2_data['co2'].std()\n",
        "co2_range = co2_data['co2'].max() - co2_data['co2'].min()\n",
        "co2_iqr = co2_data['co2'].quantile(0.75) - co2_data['co2'].quantile(0.25)\n",
        "\n",
        "# Data Distribution Analysis for Temperature Anomalies\n",
        "temperature_description = temperature_data.describe()\n",
        "temperature_mean = temperature_data['Glob'].mean()\n",
        "temperature_median = temperature_data['Glob'].median()\n",
        "temperature_mode = temperature_data['Glob'].mode().values[0]\n",
        "temperature_std = temperature_data['Glob'].std()\n",
        "temperature_range = temperature_data['Glob'].max() - temperature_data['Glob'].min()\n",
        "temperature_iqr = temperature_data['Glob'].quantile(0.75) - temperature_data['Glob'].quantile(0.25)\n",
        "\n",
        "# Data Visualization\n",
        "plt.figure(figsize=(14, 6))\n",
        "plt.subplot(1, 2, 1)\n",
        "sns.histplot(data=co2_data, x='co2', kde=True)\n",
        "plt.title(\"CO2 Emissions Distribution\")\n",
        "\n",
        "plt.subplot(1, 2, 2)\n",
        "sns.histplot(data=temperature_data, x='Glob', kde=True)\n",
        "plt.title(\"Temperature Anomalies Distribution\")\n",
        "\n",
        "plt.show()\n",
        "\n",
        "# Print Data Distribution Summary\n",
        "print(\"Summary Statistics for CO2 Emissions:\")\n",
        "print(co2_description)\n",
        "print(f\"Mean: {co2_mean:.2f}, Median: {co2_median:.2f}, Mode: {co2_mode:.2f}\")\n",
        "print(f\"Standard Deviation: {co2_std:.2f}, Range: {co2_range:.2f}, IQR: {co2_iqr:.2f}\")\n",
        "\n",
        "print(\"\\nSummary Statistics for Temperature Anomalies:\")\n",
        "print(temperature_description)\n",
        "print(f\"Mean: {temperature_mean:.2f}, Median: {temperature_median:.2f}, Mode: {temperature_mode:.2f}\")\n",
        "print(f\"Standard Deviation: {temperature_std:.2f}, Range: {temperature_range:.2f}, IQR: {temperature_iqr:.2f}\")"
      ]
    },
    {
      "cell_type": "code",
      "execution_count": null,
      "metadata": {
        "id": "yifNVYT045sy"
      },
      "outputs": [],
      "source": [
        "cols = [\"population\", \"gdp\", \"co2\", \"co2_per_capita\", \"co2_per_gdp\"]\n",
        "\n",
        "for i in cols:\n",
        "  sns.displot(co2_data[i], kde = True)"
      ]
    },
    {
      "cell_type": "code",
      "execution_count": null,
      "metadata": {
        "id": "t5SIt3D558Nl"
      },
      "outputs": [],
      "source": [
        "co2_data.boxplot(cols)\n",
        "plt.show();"
      ]
    },
    {
      "cell_type": "code",
      "execution_count": null,
      "metadata": {
        "id": "rMMPSteo8hUR"
      },
      "outputs": [],
      "source": [
        "# We already knew that the \"raw data\" has a broad range of values for gdp and population.\n",
        "\n",
        "# Analysis of the \"merged_global\" data (i.e. global temperatures already merged with \"World\" co2 data)\n",
        "# I didn't include here \"gdp\" or \"co2_per_gdp\" because info showed too many NaNs.\n",
        "\n",
        "cols2 = [\"Glob_adj\", \"NHem_adj\", \"SHem_adj\", \"population\", \"co2\", \"co2_per_capita\", \"temperature_change_from_co2\"]\n",
        "for i in cols2:\n",
        "  sns.displot(merged_global[i], kde = True)"
      ]
    },
    {
      "cell_type": "code",
      "execution_count": null,
      "metadata": {
        "id": "RH--mgVqAY9c"
      },
      "outputs": [],
      "source": [
        "for i in cols2:\n",
        "  sns.boxplot(data = merged_global[i])\n",
        "  plt.title(f'Boxplot for {i}')\n",
        "  plt.show()"
      ]
    },
    {
      "cell_type": "code",
      "execution_count": null,
      "metadata": {
        "id": "LjPINvGAEwvs"
      },
      "outputs": [],
      "source": [
        "plt.figure(figsize=(7,7))\n",
        "\n",
        "sns.heatmap(merged_global[cols2].corr(),annot=True,cmap='viridis');\n",
        "\n",
        "# A high correlation between many of the variables chosen can be seen."
      ]
    },
    {
      "cell_type": "code",
      "execution_count": null,
      "metadata": {
        "id": "IWA9ld_oGgrD"
      },
      "outputs": [],
      "source": [
        "sns.pairplot(merged_global[cols2], diag_kind = \"kde\")"
      ]
    }
  ],
  "metadata": {
    "colab": {
      "provenance": [],
      "include_colab_link": true
    },
    "kernelspec": {
      "display_name": "Python 3",
      "name": "python3"
    },
    "language_info": {
      "name": "python"
    }
  },
  "nbformat": 4,
  "nbformat_minor": 0
}